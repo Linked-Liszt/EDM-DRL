{
  "cells": [
    {
      "cell_type": "markdown",
      "metadata": {
        "id": "bf6aagqwePDv",
        "colab_type": "text"
      },
      "source": [
        "# Step 1: Import the Repo. \n",
        "## 1A: Choose the branch to check out."
      ]
    },
    {
      "cell_type": "code",
      "metadata": {
        "id": "yxdf39uZeaki",
        "colab_type": "code",
        "colab": {}
      },
      "source": [
        "repo_branch = \"collab_gpu\"\n",
        "\n",
        "!rm -r EARL\n",
        "!git clone -b $repo_branch https://github.com/Oxymoren/EARL.git "
      ],
      "execution_count": null,
      "outputs": []
    },
    {
      "cell_type": "markdown",
      "metadata": {
        "id": "Ck0vl74TfX-V",
        "colab_type": "text"
      },
      "source": [
        "# Step 2: Check GPU and Requirement Avabilities"
      ]
    },
    {
      "cell_type": "code",
      "metadata": {
        "id": "cDM6mEBjfe7z",
        "colab_type": "code",
        "colab": {}
      },
      "source": [
        "!pip install gym numpy scipy matplotlib\n",
        "!pip install EARL/.\n",
        "print()\n",
        "try: \n",
        "  import torch\n",
        "  if not torch.cuda.is_available():\n",
        "    print(\"WARNING: CUDA not avaliable.\")\n",
        "  else:\n",
        "    print(\"PyTorch + CUDA avaliable.\")\n",
        "except ImportError:\n",
        "  print(\"ERROR: PyTorch not installed.\")"
      ],
      "execution_count": null,
      "outputs": []
    },
    {
      "cell_type": "markdown",
      "metadata": {
        "id": "zoBiV5uuiYqJ",
        "colab_type": "text"
      },
      "source": [
        "# Step 3: Select Experiment and Mount Drive"
      ]
    },
    {
      "cell_type": "markdown",
      "metadata": {
        "id": "vMXMteIQkPWx",
        "colab_type": "text"
      },
      "source": [
        "## Configuration"
      ]
    },
    {
      "cell_type": "code",
      "metadata": {
        "id": "ud_IruJtkVaq",
        "colab_type": "code",
        "colab": {}
      },
      "source": [
        "# Choose Experiment Config from /configs/\n",
        "config_fp = \"experiment_1_baseline/evo_ac_cart_strat_base.json\"\n",
        "\n",
        "# Drive Log Save Point from ./drive/\n",
        "drive_save_fp = \"Colab Notebooks/Results/\"\n",
        "\n",
        "# Save a log after each run\n",
        "save_run = True"
      ],
      "execution_count": null,
      "outputs": []
    },
    {
      "cell_type": "markdown",
      "metadata": {
        "id": "XoSCwB_Cwc6A",
        "colab_type": "text"
      },
      "source": [
        "## Initialization"
      ]
    },
    {
      "cell_type": "code",
      "metadata": {
        "id": "1gmgfXVkifrd",
        "colab_type": "code",
        "colab": {}
      },
      "source": [
        "import os\n",
        "import json\n",
        "from evo_ac.runner import EvoACRunner\n",
        "from google.colab import drive\n",
        "drive.mount('drive')\n",
        "\n",
        "config_prefix = \"EARL/configs/\"\n",
        "log_prefix = \"drive/My Drive/\"\n",
        "\n",
        "full_config_fp = os.path.join(config_prefix, config_fp)\n",
        "with open(full_config_fp, 'r') as config_file:\n",
        "  config_dict = json.load(config_file)\n",
        "\n",
        "config_dict['experiment']['log_run'] = save_run\n",
        "config_dict['experiment']['log_path'] = os.path.join(log_prefix, drive_save_fp)\n",
        "\n",
        "runner = EvoACRunner(config_dict)"
      ],
      "execution_count": null,
      "outputs": []
    },
    {
      "cell_type": "markdown",
      "metadata": {
        "id": "qEZfEPHMwC6k",
        "colab_type": "text"
      },
      "source": [
        "# Step 4: Run Experiment"
      ]
    },
    {
      "cell_type": "code",
      "metadata": {
        "id": "cTbkFhP3wOvw",
        "colab_type": "code",
        "colab": {}
      },
      "source": [
        "runner.train()"
      ],
      "execution_count": null,
      "outputs": []
    }
  ],
  "metadata": {
    "colab": {
      "name": "EARL.ipynb",
      "provenance": [],
      "collapsed_sections": [],
      "toc_visible": true
    },
    "kernelspec": {
      "name": "python3",
      "display_name": "Python 3"
    },
    "accelerator": "GPU"
  },
  "nbformat": 4,
  "nbformat_minor": 0
}